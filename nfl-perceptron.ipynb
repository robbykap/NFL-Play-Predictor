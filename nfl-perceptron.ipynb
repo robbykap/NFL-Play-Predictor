{
 "cells": [
  {
   "cell_type": "code",
   "execution_count": 1,
   "id": "initial_id",
   "metadata": {
    "collapsed": true,
    "ExecuteTime": {
     "end_time": "2024-03-14T00:28:02.191904Z",
     "start_time": "2024-03-14T00:28:01.273101400Z"
    }
   },
   "outputs": [],
   "source": [
    "import numpy as np\n",
    "from sklearn.linear_model import Perceptron\n",
    "from data_preprocessing import load_nfl_data"
   ]
  },
  {
   "cell_type": "code",
   "execution_count": 2,
   "outputs": [
    {
     "name": "stderr",
     "output_type": "stream",
     "text": [
      "C:\\Users\\zacha\\Documents\\programming\\repos\\Python\\NFL_Play_Predictor\\data_preprocessing.py:35: DtypeWarning: Columns (42,166,167,168,169,174,175,178,179,182,183,188,189,190,191,194,195,203,204,205,218,219,220,231,232,233,238,240,241,249) have mixed types. Specify dtype option on import or set low_memory=False.\n",
      "  nfl_play_data: pd.DataFrame = pd.read_csv(file_path)\n"
     ]
    },
    {
     "name": "stdout",
     "output_type": "stream",
     "text": [
      "449371\n",
      "319369\n"
     ]
    }
   ],
   "source": [
    "nfl_play_data, play_outcomes = load_nfl_data('nfl-play-by-play-2009-2018.csv')"
   ],
   "metadata": {
    "collapsed": false,
    "ExecuteTime": {
     "end_time": "2024-03-14T00:28:10.811643400Z",
     "start_time": "2024-03-14T00:28:02.192903700Z"
    }
   },
   "id": "fbf7f775b5c3ad16"
  },
  {
   "cell_type": "code",
   "execution_count": 3,
   "outputs": [
    {
     "name": "stdout",
     "output_type": "stream",
     "text": [
      "1         pass\n",
      "2          run\n",
      "3         pass\n",
      "5          run\n",
      "6         pass\n",
      "          ... \n",
      "449363    pass\n",
      "449364    pass\n",
      "449366    pass\n",
      "449367    pass\n",
      "449368    pass\n",
      "Name: play_type, Length: 319369, dtype: object\n"
     ]
    }
   ],
   "source": [
    "print(play_outcomes)"
   ],
   "metadata": {
    "collapsed": false,
    "ExecuteTime": {
     "end_time": "2024-03-14T00:28:10.817750600Z",
     "start_time": "2024-03-14T00:28:10.812646Z"
    }
   },
   "id": "76b9e3bf50eb64ae"
  },
  {
   "cell_type": "code",
   "execution_count": 3,
   "outputs": [],
   "source": [],
   "metadata": {
    "collapsed": false,
    "ExecuteTime": {
     "end_time": "2024-03-14T00:28:10.819749100Z",
     "start_time": "2024-03-14T00:28:10.816237200Z"
    }
   },
   "id": "b216a6d9bb55ca30"
  }
 ],
 "metadata": {
  "kernelspec": {
   "display_name": "Python 3",
   "language": "python",
   "name": "python3"
  },
  "language_info": {
   "codemirror_mode": {
    "name": "ipython",
    "version": 2
   },
   "file_extension": ".py",
   "mimetype": "text/x-python",
   "name": "python",
   "nbconvert_exporter": "python",
   "pygments_lexer": "ipython2",
   "version": "2.7.6"
  }
 },
 "nbformat": 4,
 "nbformat_minor": 5
}
