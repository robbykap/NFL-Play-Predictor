{
 "cells": [
  {
   "cell_type": "code",
   "execution_count": 1,
   "id": "initial_id",
   "metadata": {
    "collapsed": true,
    "ExecuteTime": {
     "end_time": "2024-03-14T00:28:02.191904Z",
     "start_time": "2024-03-14T00:28:01.273101400Z"
    }
   },
   "outputs": [],
   "source": [
    "import numpy as np\n",
    "from sklearn.linear_model import Perceptron\n",
    "from data_preprocessing import load_nfl_data"
   ]
  },
  {
   "cell_type": "code",
   "execution_count": 2,
   "outputs": [
    {
     "name": "stderr",
     "output_type": "stream",
     "text": [
      "C:\\Users\\zacha\\Documents\\programming\\repos\\Python\\NFL_Play_Predictor\\data_preprocessing.py:35: DtypeWarning: Columns (42,166,167,168,169,174,175,178,179,182,183,188,189,190,191,194,195,203,204,205,218,219,220,231,232,233,238,240,241,249) have mixed types. Specify dtype option on import or set low_memory=False.\n",
      "  nfl_play_data: pd.DataFrame = pd.read_csv(file_path)\n"
     ]
    },
    {
     "name": "stdout",
     "output_type": "stream",
     "text": [
      "449371\n",
      "319369\n"
     ]
    }
   ],
   "source": [
    "nfl_play_data, play_outcomes = load_nfl_data('nfl-play-by-play-2009-2018.csv')"
   ],
   "metadata": {
    "collapsed": false,
    "ExecuteTime": {
     "end_time": "2024-03-14T00:28:10.811643400Z",
     "start_time": "2024-03-14T00:28:02.192903700Z"
    }
   },
   "id": "fbf7f775b5c3ad16"
  },
  {
   "cell_type": "code",
   "execution_count": 4,
   "outputs": [
    {
     "name": "stdout",
     "output_type": "stream",
     "text": [
      "       posteam defteam  yardline_100  quarter_seconds_remaining  \\\n",
      "1          PIT     TEN          58.0                      893.0   \n",
      "2          PIT     TEN          53.0                      856.0   \n",
      "3          PIT     TEN          56.0                      815.0   \n",
      "5          TEN     PIT          98.0                      796.0   \n",
      "6          TEN     PIT          98.0                      760.0   \n",
      "...        ...     ...           ...                        ...   \n",
      "449363     CAR      NO          71.0                       82.0   \n",
      "449364     CAR      NO          71.0                       77.0   \n",
      "449366     CAR      NO          66.0                       63.0   \n",
      "449367     CAR      NO          66.0                       58.0   \n",
      "449368     CAR      NO          61.0                       38.0   \n",
      "\n",
      "        half_seconds_remaining  game_seconds_remaining game_half  quarter_end  \\\n",
      "1                       1793.0                  3593.0     Half1            0   \n",
      "2                       1756.0                  3556.0     Half1            0   \n",
      "3                       1715.0                  3515.0     Half1            0   \n",
      "5                       1696.0                  3496.0     Half1            0   \n",
      "6                       1660.0                  3460.0     Half1            0   \n",
      "...                        ...                     ...       ...          ...   \n",
      "449363                    82.0                    82.0     Half2            0   \n",
      "449364                    77.0                    77.0     Half2            0   \n",
      "449366                    63.0                    63.0     Half2            0   \n",
      "449367                    58.0                    58.0     Half2            0   \n",
      "449368                    38.0                    38.0     Half2            0   \n",
      "\n",
      "        drive  sp  ...  ydsnet  qb_dropback  qb_scramble  \\\n",
      "1           1   0  ...       5          1.0            0   \n",
      "2           1   0  ...       2          0.0            0   \n",
      "3           1   0  ...       2          1.0            0   \n",
      "5           2   0  ...       0          0.0            0   \n",
      "6           2   0  ...       4          1.0            0   \n",
      "...       ...  ..  ...     ...          ...          ...   \n",
      "449363     20   0  ...      19          1.0            0   \n",
      "449364     20   0  ...      19          1.0            0   \n",
      "449366     20   0  ...      19          1.0            0   \n",
      "449367     20   0  ...      19          1.0            0   \n",
      "449368     20   0  ...      19          1.0            0   \n",
      "\n",
      "        posteam_timeouts_remaining  defteam_timeouts_remaining  posteam_score  \\\n",
      "1                              3.0                         3.0            0.0   \n",
      "2                              3.0                         3.0            0.0   \n",
      "3                              3.0                         3.0            0.0   \n",
      "5                              3.0                         3.0            0.0   \n",
      "6                              3.0                         3.0            0.0   \n",
      "...                            ...                         ...            ...   \n",
      "449363                         0.0                         1.0            7.0   \n",
      "449364                         0.0                         1.0            7.0   \n",
      "449366                         0.0                         1.0            7.0   \n",
      "449367                         0.0                         1.0            7.0   \n",
      "449368                         0.0                         1.0            7.0   \n",
      "\n",
      "        defteam_score  score_differential        ep       epa  \n",
      "1                 0.0                 0.0  2.338000  0.077907  \n",
      "2                 0.0                 0.0  2.415907 -1.402760  \n",
      "3                 0.0                 0.0  1.013147 -1.712583  \n",
      "5                 0.0                 0.0 -1.398360 -0.696302  \n",
      "6                 0.0                 0.0 -2.094662 -0.179149  \n",
      "...               ...                 ...       ...       ...  \n",
      "449363           12.0                -5.0  1.066604 -0.180769  \n",
      "449364           12.0                -5.0  0.885835  0.253368  \n",
      "449366           12.0                -5.0  0.908592 -0.301121  \n",
      "449367           12.0                -5.0  0.607471 -0.320799  \n",
      "449368           12.0                -5.0  0.286672 -0.286672  \n",
      "\n",
      "[319369 rows x 23 columns]\n"
     ]
    }
   ],
   "source": [
    "print(nfl_play_data)"
   ],
   "metadata": {
    "collapsed": false,
    "ExecuteTime": {
     "end_time": "2024-03-14T00:48:31.339384700Z",
     "start_time": "2024-03-14T00:48:31.269377700Z"
    }
   },
   "id": "76b9e3bf50eb64ae"
  },
  {
   "cell_type": "code",
   "execution_count": 3,
   "outputs": [],
   "source": [],
   "metadata": {
    "collapsed": false,
    "ExecuteTime": {
     "end_time": "2024-03-14T00:28:10.819749100Z",
     "start_time": "2024-03-14T00:28:10.816237200Z"
    }
   },
   "id": "b216a6d9bb55ca30"
  }
 ],
 "metadata": {
  "kernelspec": {
   "display_name": "Python 3",
   "language": "python",
   "name": "python3"
  },
  "language_info": {
   "codemirror_mode": {
    "name": "ipython",
    "version": 2
   },
   "file_extension": ".py",
   "mimetype": "text/x-python",
   "name": "python",
   "nbconvert_exporter": "python",
   "pygments_lexer": "ipython2",
   "version": "2.7.6"
  }
 },
 "nbformat": 4,
 "nbformat_minor": 5
}
