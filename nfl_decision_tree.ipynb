{
 "cells": [
  {
   "cell_type": "code",
   "execution_count": 4,
   "id": "initial_id",
   "metadata": {
    "collapsed": true,
    "ExecuteTime": {
     "end_time": "2024-04-04T01:39:58.723776400Z",
     "start_time": "2024-04-04T01:39:58.719223600Z"
    }
   },
   "outputs": [],
   "source": [
    "from data_preprocessing import old_load_nfl_data\n",
    "from data_preprocessing import features_to_keep\n",
    "\n",
    "import numpy as np\n",
    "import pandas as pd\n",
    "from sklearn.tree import DecisionTreeClassifier\n",
    "from sklearn.model_selection import GridSearchCV\n",
    "from sklearn.model_selection import train_test_split\n",
    "from sklearn.metrics import accuracy_score"
   ]
  },
  {
   "cell_type": "code",
   "execution_count": 5,
   "outputs": [
    {
     "name": "stderr",
     "output_type": "stream",
     "text": [
      "C:\\Users\\zacha\\Documents\\programming\\repos\\Python\\NFL_Play_Predictor\\data_preprocessing.py:56: DtypeWarning: Columns (42,166,167,168,169,174,175,178,179,182,183,188,189,190,191,194,195,203,204,205,218,219,220,231,232,233,238,240,241,249) have mixed types. Specify dtype option on import or set low_memory=False.\n",
      "  # convert the number of seconds to hours\n"
     ]
    },
    {
     "name": "stdout",
     "output_type": "stream",
     "text": [
      "   yardline_100  quarter_seconds_remaining  half_seconds_remaining  \\\n",
      "1          58.0                   0.248056                0.498056   \n",
      "2          53.0                   0.237778                0.487778   \n",
      "3          56.0                   0.226389                0.476389   \n",
      "5          98.0                   0.221111                0.471111   \n",
      "6          98.0                   0.211111                0.461111   \n",
      "\n",
      "   game_seconds_remaining  quarter_end  drive  sp  qtr  down  ydstogo  ...  \\\n",
      "1                0.998056            0      1   0    1   1.0       10  ...   \n",
      "2                0.987778            0      1   0    1   2.0        5  ...   \n",
      "3                0.976389            0      1   0    1   3.0        8  ...   \n",
      "5                0.971111            0      2   0    1   1.0       10  ...   \n",
      "6                0.961111            0      2   0    1   2.0       10  ...   \n",
      "\n",
      "   previous_play3_extra_point  previous_play3_field_goal  \\\n",
      "1                       False                      False   \n",
      "2                       False                      False   \n",
      "3                       False                      False   \n",
      "5                       False                      False   \n",
      "6                       False                      False   \n",
      "\n",
      "   previous_play3_kickoff  previous_play3_new_team  previous_play3_no_play  \\\n",
      "1                   False                     True                   False   \n",
      "2                   False                     True                   False   \n",
      "3                    True                    False                   False   \n",
      "5                   False                     True                   False   \n",
      "6                   False                     True                   False   \n",
      "\n",
      "   previous_play3_pass  previous_play3_punt  previous_play3_qb_kneel  \\\n",
      "1                False                False                    False   \n",
      "2                False                False                    False   \n",
      "3                False                False                    False   \n",
      "5                False                False                    False   \n",
      "6                False                False                    False   \n",
      "\n",
      "   previous_play3_qb_spike  previous_play3_run  \n",
      "1                    False               False  \n",
      "2                    False               False  \n",
      "3                    False               False  \n",
      "5                    False               False  \n",
      "6                    False               False  \n",
      "\n",
      "[5 rows x 121 columns]\n"
     ]
    }
   ],
   "source": [
    "x_df, y_df = old_load_nfl_data('nfl-play-by-play-2009-2018.csv')\n",
    "X = x_df.to_numpy()\n",
    "y = y_df.to_numpy()\n",
    "\n",
    "# print(x_df.head())\n",
    "\n",
    "# X = X[:100000]\n",
    "# y = y[:100000]"
   ],
   "metadata": {
    "collapsed": false,
    "ExecuteTime": {
     "end_time": "2024-04-04T01:40:23.768164Z",
     "start_time": "2024-04-04T01:39:58.722738Z"
    }
   },
   "id": "8da0293f85dd7cef"
  },
  {
   "cell_type": "code",
   "execution_count": 6,
   "outputs": [
    {
     "name": "stdout",
     "output_type": "stream",
     "text": [
      "Best parameters: {'max_depth': 15, 'min_samples_leaf': 1, 'min_samples_split': 2}\n",
      "Best score: 0.7518698480049615\n",
      "Training set accuracy:  0.8107523482283252\n",
      "Testing set accuracy: 0.7559526780811661\n"
     ]
    }
   ],
   "source": [
    "X_train, X_test, y_train, y_test = train_test_split(X, y, test_size=0.2, random_state=11)\n",
    "clf = DecisionTreeClassifier()\n",
    "\n",
    "param_grid = {\n",
    "    'max_depth': [5, 10, 15, 20, 25, 30, 35, 40, 45, 50], # 15\n",
    "    'min_samples_split': [2, 5, 10, 15, 20, 25], # 2\n",
    "    'min_samples_leaf': [1]\n",
    "}\n",
    "\n",
    "grid_search = GridSearchCV(estimator=clf, param_grid=param_grid, cv=5)\n",
    "grid_search.fit(X_train, y_train)\n",
    "\n",
    "best_params = grid_search.best_params_\n",
    "best_score = grid_search.best_score_\n",
    "print(\"Best parameters:\", best_params)\n",
    "print(\"Best score:\", best_score)\n",
    "\n",
    "best_clf = grid_search.best_estimator_\n",
    "train_pred = best_clf.predict(X_train)\n",
    "train_accuracy = accuracy_score(y_train, train_pred)\n",
    "print(\"Training set accuracy: \", train_accuracy)\n",
    "\n",
    "y_pred = best_clf.predict(X_test)\n",
    "test_accuracy = accuracy_score(y_test, y_pred)\n",
    "print(\"Testing set accuracy:\", test_accuracy)"
   ],
   "metadata": {
    "collapsed": false,
    "ExecuteTime": {
     "end_time": "2024-04-04T02:12:57.235163900Z",
     "start_time": "2024-04-04T01:40:23.769166700Z"
    }
   },
   "id": "c2ef59dfa64638a6"
  },
  {
   "cell_type": "code",
   "execution_count": 7,
   "outputs": [
    {
     "name": "stdout",
     "output_type": "stream",
     "text": [
      "Top 10 features:\n",
      "1. Feature_17: 0.22720027154704706\n",
      "2. Feature_9: 0.14190849929198374\n",
      "3. Feature_8: 0.12734438404612253\n",
      "4. Feature_2: 0.12133064735882948\n",
      "5. Feature_15: 0.07284710000707753\n",
      "6. Feature_3: 0.053073753210976043\n",
      "7. Feature_16: 0.0432724872015809\n",
      "8. Feature_10: 0.03796714094055042\n",
      "9. Feature_0: 0.036227791826123\n",
      "10. Feature_1: 0.014793659179579286\n"
     ]
    }
   ],
   "source": [
    "feature_importances = best_clf.feature_importances_\n",
    "\n",
    "# Get the indices of the features sorted by importance\n",
    "sorted_indices = np.argsort(feature_importances)[::-1]\n",
    "\n",
    "# Print the top n features and their importances\n",
    "n_top_features = 10  # Adjust as needed\n",
    "print(\"Top\", n_top_features, \"features:\")\n",
    "for i in range(n_top_features):\n",
    "    feature_index = sorted_indices[i]\n",
    "    feature_importance = feature_importances[feature_index]\n",
    "    feature_name = f\"Feature_{feature_index}\"  # Assuming feature names are not available\n",
    "    print(f\"{i+1}. {feature_name}: {feature_importance}\")"
   ],
   "metadata": {
    "collapsed": false,
    "ExecuteTime": {
     "end_time": "2024-04-04T02:12:57.236679400Z",
     "start_time": "2024-04-04T02:12:57.231520800Z"
    }
   },
   "id": "abc4e91c2a1d4cb"
  },
  {
   "cell_type": "code",
   "execution_count": 7,
   "outputs": [],
   "source": [],
   "metadata": {
    "collapsed": false,
    "ExecuteTime": {
     "end_time": "2024-04-04T02:12:57.243677800Z",
     "start_time": "2024-04-04T02:12:57.235163900Z"
    }
   },
   "id": "f3b47ee04c242324"
  }
 ],
 "metadata": {
  "kernelspec": {
   "display_name": "Python 3",
   "language": "python",
   "name": "python3"
  },
  "language_info": {
   "codemirror_mode": {
    "name": "ipython",
    "version": 2
   },
   "file_extension": ".py",
   "mimetype": "text/x-python",
   "name": "python",
   "nbconvert_exporter": "python",
   "pygments_lexer": "ipython2",
   "version": "2.7.6"
  }
 },
 "nbformat": 4,
 "nbformat_minor": 5
}
