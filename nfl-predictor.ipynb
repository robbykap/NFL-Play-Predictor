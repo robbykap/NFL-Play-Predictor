{
 "cells": [
  {
   "cell_type": "code",
   "execution_count": 1,
   "metadata": {
    "ExecuteTime": {
     "end_time": "2024-03-13T22:48:07.831907300Z",
     "start_time": "2024-03-13T22:48:06.787486100Z"
    }
   },
   "outputs": [],
   "source": [
    "import pandas as pd"
   ]
  },
  {
   "cell_type": "code",
   "execution_count": 2,
   "metadata": {
    "ExecuteTime": {
     "end_time": "2024-03-13T22:48:27.750686600Z",
     "start_time": "2024-03-13T22:48:07.826906400Z"
    }
   },
   "outputs": [
    {
     "name": "stderr",
     "output_type": "stream",
     "text": [
      "C:\\Users\\zacha\\AppData\\Local\\Temp\\ipykernel_7640\\3115125485.py:1: DtypeWarning: Columns (42,166,167,168,169,174,175,178,179,182,183,188,189,190,191,194,195,203,204,205,218,219,220,231,232,233,238,240,241,249) have mixed types. Specify dtype option on import or set low_memory=False.\n",
      "  nfl = pd.read_csv('nfl-play-by-play-2009-2018.csv')\n"
     ]
    }
   ],
   "source": [
    "nfl = pd.read_csv('nfl-play-by-play-2009-2018.csv')\n",
    "\n",
    "features_to_keep = ['home_teaplay_idm', \n",
    "                    'posteam', \n",
    "                    'defteam', \n",
    "                    'yardline_100',\n",
    "                    'quarter_seconds_remaining', \n",
    "                    'half_seconds_remaining',\n",
    "                    'game_seconds_remaining', \n",
    "                    'game_half', \n",
    "                    'quarter_end', \n",
    "                    'drive', \n",
    "                    'sp',\n",
    "                    'qtr', \n",
    "                    'down', \n",
    "                    'ydstogo', \n",
    "                    'ydsnet', \n",
    "                    'play_type', \n",
    "                    'qb_dropback',\n",
    "                    'qb_scramble', \n",
    "                    'posteam_timeouts_remaining',\n",
    "                    'defteam_timeouts_remaining', \n",
    "                    'posteam_score', \n",
    "                    'defteam_score',\n",
    "                    'score_differential', \n",
    "                    'ep', \n",
    "                    'epa']\n",
    "\n",
    "output = nfl['play_type']"
   ]
  },
  {
   "cell_type": "code",
   "execution_count": 3,
   "metadata": {
    "ExecuteTime": {
     "end_time": "2024-03-13T22:48:27.780828500Z",
     "start_time": "2024-03-13T22:48:27.752294Z"
    }
   },
   "outputs": [],
   "source": [
    "features_not_found =   ['date',\n",
    "                        'home_team',\n",
    "                        'game_date',\n",
    "                        'time',\n",
    "                        'qb_scrumble',\n",
    "                        'tackler1_player_id',\n",
    "                        'tackler1_player_name',\n",
    "                        'tackler2_player_id',\n",
    "                        'tackler2_player_name',\n",
    "                        'field_goal_kicker_player_id',\n",
    "                        'field_goal_kicker_player_name',\n",
    "                        'punter_player_name',\n",
    "                        'punter_player_id',\n",
    "                        'kicker_player_name',\n",
    "                        'kicker_player_id',\n",
    "                        'own_kickoff_recovery_player_id',\n",
    "                        'own_kickoff_recovery_player_name',\n",
    "                        'blocked_player_id',\n",
    "                        'blocked_player_name']"
   ]
  }
 ],
 "metadata": {
  "kernelspec": {
   "display_name": "main",
   "language": "python",
   "name": "python3"
  },
  "language_info": {
   "codemirror_mode": {
    "name": "ipython",
    "version": 3
   },
   "file_extension": ".py",
   "mimetype": "text/x-python",
   "name": "python",
   "nbconvert_exporter": "python",
   "pygments_lexer": "ipython3",
   "version": "3.11.5"
  }
 },
 "nbformat": 4,
 "nbformat_minor": 2
}
