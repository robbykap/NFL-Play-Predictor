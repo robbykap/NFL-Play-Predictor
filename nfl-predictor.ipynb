{
 "cells": [
  {
   "cell_type": "code",
   "execution_count": 2,
   "metadata": {},
   "outputs": [],
   "source": [
    "import pandas as pd"
   ]
  },
  {
   "cell_type": "code",
   "execution_count": null,
   "metadata": {},
   "outputs": [],
   "source": [
    "nfl = pd.read_csv('nfl-play-by-play-2009-2018.csv')\n",
    "\n",
    "features_to_keep = ['home_teaplay_idm', \n",
    "                    'posteam', \n",
    "                    'defteam', \n",
    "                    'yardline_100',\n",
    "                    'quarter_seconds_remaining', \n",
    "                    'half_seconds_remaining',\n",
    "                    'game_seconds_remaining', \n",
    "                    'game_half', \n",
    "                    'quarter_end', \n",
    "                    'drive', \n",
    "                    'sp',\n",
    "                    'qtr', \n",
    "                    'down', \n",
    "                    'ydstogo', \n",
    "                    'ydsnet', \n",
    "                    'play_type', \n",
    "                    'qb_dropback',\n",
    "                    'qb_scramble', \n",
    "                    'posteam_timeouts_remaining',\n",
    "                    'defteam_timeouts_remaining', \n",
    "                    'posteam_score', \n",
    "                    'defteam_score',\n",
    "                    'score_differential', \n",
    "                    'ep', \n",
    "                    'epa']\n",
    "\n",
    "output = nfl['play_type']"
   ]
  },
  {
   "cell_type": "code",
   "execution_count": null,
   "metadata": {},
   "outputs": [],
   "source": [
    "features_not_found =   ['date',\n",
    "                        'home_team',\n",
    "                        'game_date',\n",
    "                        'time',\n",
    "                        'qb_scrumble',\n",
    "                        'tackler1_player_id',\n",
    "                        'tackler1_player_name',\n",
    "                        'tackler2_player_id',\n",
    "                        'tackler2_player_name',\n",
    "                        'field_goal_kicker_player_id',\n",
    "                        'field_goal_kicker_player_name',\n",
    "                        'punter_player_name',\n",
    "                        'punter_player_id',\n",
    "                        'kicker_player_name',\n",
    "                        'kicker_player_id',\n",
    "                        'own_kickoff_recovery_player_id',\n",
    "                        'own_kickoff_recovery_player_name',\n",
    "                        'blocked_player_id',\n",
    "                        'blocked_player_name']"
   ]
  }
 ],
 "metadata": {
  "kernelspec": {
   "display_name": "main",
   "language": "python",
   "name": "python3"
  },
  "language_info": {
   "codemirror_mode": {
    "name": "ipython",
    "version": 3
   },
   "file_extension": ".py",
   "mimetype": "text/x-python",
   "name": "python",
   "nbconvert_exporter": "python",
   "pygments_lexer": "ipython3",
   "version": "3.11.5"
  }
 },
 "nbformat": 4,
 "nbformat_minor": 2
}
